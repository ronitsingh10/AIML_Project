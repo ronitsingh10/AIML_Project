{
 "cells": [
  {
   "cell_type": "code",
   "execution_count": 38,
   "id": "c6bbaa34-495d-4e52-b6fc-157e6dd8aa5a",
   "metadata": {},
   "outputs": [],
   "source": [
    "import tensorflow as tf\n",
    "from tensorflow.keras import Sequential\n",
    "from tensorflow.keras import Input\n",
    "import numpy as np\n",
    "import pandas as pd\n",
    "import os\n",
    "import keras\n",
    "from keras.layers import Conv2D, MaxPool2D, add,Dropout,Dense,Flatten\n",
    "from tensorflow.keras.layers import BatchNormalization\n",
    "from tensorflow.keras.optimizers import Adam\n",
    "from keras.callbacks import EarlyStopping, Callback\n",
    "import sklearn\n",
    "from matplotlib import pyplot as plt\n",
    "import seaborn as sns\n",
    "import warnings\n",
    "import librosa"
   ]
  },
  {
   "cell_type": "code",
   "execution_count": 25,
   "id": "6bc3853c-5280-42a5-a8fd-f8e5276f8877",
   "metadata": {},
   "outputs": [],
   "source": [
    "warnings.filterwarnings(\"ignore\")\n",
    "sns.set()\n",
    "mini_batch_size=256"
   ]
  },
  {
   "cell_type": "code",
   "execution_count": 26,
   "id": "01282dfe-3710-4f11-8da7-cb1dd83adab8",
   "metadata": {},
   "outputs": [
    {
     "data": {
      "text/plain": [
       "(28721, 38, 1, 252)"
      ]
     },
     "execution_count": 26,
     "metadata": {},
     "output_type": "execute_result"
    }
   ],
   "source": [
    "X_Train = np.load('DataSet_P/Train/X_final_CQT_.npy', mmap_mode = 'r')\n",
    "X_Train.shape"
   ]
  },
  {
   "cell_type": "code",
   "execution_count": 27,
   "id": "30ee9ba8-73a0-40a7-bc68-26f74c40e960",
   "metadata": {},
   "outputs": [
    {
     "data": {
      "text/plain": [
       "(28721, 38, 1, 88)"
      ]
     },
     "execution_count": 27,
     "metadata": {},
     "output_type": "execute_result"
    }
   ],
   "source": [
    "Y_Train = np.load('DataSet_P/Train/Y_final_Label_.npy', mmap_mode = 'r')\n",
    "Y_Train.shape"
   ]
  },
  {
   "cell_type": "code",
   "execution_count": 28,
   "id": "68c3ce1b-24c8-498f-8d8a-1078057b5b67",
   "metadata": {},
   "outputs": [
    {
     "data": {
      "text/plain": [
       "(15219, 38, 1, 252)"
      ]
     },
     "execution_count": 28,
     "metadata": {},
     "output_type": "execute_result"
    }
   ],
   "source": [
    "X_Test = np.load('DataSet_P/Test/X_final_CQT_.npy', mmap_mode = 'r')\n",
    "X_Test.shape"
   ]
  },
  {
   "cell_type": "code",
   "execution_count": 29,
   "id": "de09ae02-37e8-4f50-88fe-196c6ee7f962",
   "metadata": {},
   "outputs": [
    {
     "data": {
      "text/plain": [
       "(15219, 38, 1, 88)"
      ]
     },
     "execution_count": 29,
     "metadata": {},
     "output_type": "execute_result"
    }
   ],
   "source": [
    "Y_Test = np.load('DataSet_P/Test/Y_final_Label_.npy', mmap_mode = 'r')\n",
    "Y_Test.shape"
   ]
  },
  {
   "cell_type": "code",
   "execution_count": 30,
   "id": "1620746d-a816-43eb-90db-adfdc5001b9e",
   "metadata": {},
   "outputs": [
    {
     "data": {
      "text/plain": [
       "(28672, 38, 1, 252)"
      ]
     },
     "execution_count": 30,
     "metadata": {},
     "output_type": "execute_result"
    }
   ],
   "source": [
    "# The X_train is converted to 4 dimension with a mini_batch size of 256 / 400\n",
    "\n",
    "X_Train = X_Train[:int(X_Train.shape[0] / mini_batch_size) * mini_batch_size,:]\n",
    "X_Train.shape"
   ]
  },
  {
   "cell_type": "code",
   "execution_count": 31,
   "id": "6d063722-b2bb-4121-a7d9-a943b95cadd1",
   "metadata": {},
   "outputs": [
    {
     "data": {
      "text/plain": [
       "(28672, 38, 1, 88)"
      ]
     },
     "execution_count": 31,
     "metadata": {},
     "output_type": "execute_result"
    }
   ],
   "source": [
    "# The Y_train is converted to 4 dimension with a mini_batch size of 256 / 400 similar to X_train\n",
    "\n",
    "Y_Train = Y_Train[:int(Y_Train.shape[0] / mini_batch_size) * mini_batch_size,:]\n",
    "Y_Train.shape"
   ]
  },
  {
   "cell_type": "code",
   "execution_count": 32,
   "id": "9060ad7c-9bf4-4c5b-96aa-3bcc0e94036d",
   "metadata": {},
   "outputs": [
    {
     "data": {
      "text/plain": [
       "TensorShape([28672, 38, 252, 1])"
      ]
     },
     "execution_count": 32,
     "metadata": {},
     "output_type": "execute_result"
    }
   ],
   "source": [
    "X_Train = tf.transpose(X_Train, perm=[0, 1, 3, 2])\n",
    "X_Train.shape"
   ]
  },
  {
   "cell_type": "code",
   "execution_count": 33,
   "id": "6faf8564-2298-4da1-8232-2580d0a8b9c9",
   "metadata": {},
   "outputs": [
    {
     "data": {
      "text/plain": [
       "TensorShape([15219, 38, 252, 1])"
      ]
     },
     "execution_count": 33,
     "metadata": {},
     "output_type": "execute_result"
    }
   ],
   "source": [
    "X_Test = tf.transpose(X_Test, perm=[0, 1, 3, 2])\n",
    "X_Test.shape"
   ]
  },
  {
   "cell_type": "code",
   "execution_count": 46,
   "id": "dff9ba21-3b9c-41eb-9ade-df6706674845",
   "metadata": {},
   "outputs": [],
   "source": [
    "minibatch= True"
   ]
  },
  {
   "cell_type": "code",
   "execution_count": 47,
   "id": "f112c1c1-83e9-45bc-b154-48809823bc79",
   "metadata": {},
   "outputs": [],
   "source": [
    "# training the data in tensorflow with mini batch size equal to 400\n",
    "\n",
    "Train_data = tf.data.Dataset.from_tensor_slices((X_Train, Y_Train))\n",
    "Train_data = Train_data.batch(mini_batch_size)\n",
    "\n",
    "Test_data = tf.data.Dataset.from_tensor_slices((X_Test ,Y_Test))\n",
    "Test_data = Test_data.batch(mini_batch_size)"
   ]
  },
  {
   "cell_type": "code",
   "execution_count": 48,
   "id": "9bb14bd4-8cc5-495a-939f-3df645105839",
   "metadata": {},
   "outputs": [
    {
     "data": {
      "text/plain": [
       "<BatchDataset shapes: ((None, 38, 252, 1), (None, 38, 1, 88)), types: (tf.float64, tf.float64)>"
      ]
     },
     "execution_count": 48,
     "metadata": {},
     "output_type": "execute_result"
    }
   ],
   "source": [
    "Train_data"
   ]
  },
  {
   "cell_type": "code",
   "execution_count": 49,
   "id": "e2c704bb-c5ec-4878-87b3-21e7edf8bc60",
   "metadata": {},
   "outputs": [
    {
     "data": {
      "text/plain": [
       "<BatchDataset shapes: ((None, 38, 252, 1), (None, 38, 1, 88)), types: (tf.float64, tf.float64)>"
      ]
     },
     "execution_count": 49,
     "metadata": {},
     "output_type": "execute_result"
    }
   ],
   "source": [
    "Test_data"
   ]
  },
  {
   "cell_type": "code",
   "execution_count": 50,
   "id": "2f9509d8-ba24-43d7-a8ef-fdd95beca681",
   "metadata": {},
   "outputs": [],
   "source": [
    "# Parameters for the layers of neural network \n",
    "\n",
    "window_size = 7\n",
    "min_midi = librosa.note_to_midi('A0')\n",
    "max_midi = librosa.note_to_midi('C8')\n",
    "note_range = max_midi - min_midi + 1"
   ]
  },
  {
   "cell_type": "code",
   "execution_count": 59,
   "id": "d2fd6c0d-46d4-43ba-a75b-543502fb6013",
   "metadata": {},
   "outputs": [],
   "source": [
    "input_shape = (38, 252, 1)\n",
    "model = tf.keras.Sequential()\n",
    "\n",
    "#stage1\n",
    "model.add(Conv2D(filters=50, kernel_size=(5,25), activation='elu', input_shape=input_shape, padding=\"same\", strides=1))\n",
    "model.add(BatchNormalization())\n",
    "model.add(MaxPool2D(pool_size=(1, 3), strides=(1, 3), padding=\"same\"))\n",
    "\n",
    "#stage2\n",
    "model.add(Conv2D(filters=50, kernel_size=(3,5), strides=1, activation='elu', padding=\"same\"))\n",
    "model.add(BatchNormalization())\n",
    "model.add(MaxPool2D(pool_size=(1, 3), strides=(1, 3), padding=\"same\"))\n",
    "\n",
    "#stage3\n",
    "model.add(Conv2D(filters=1000, kernel_size=(1,28), activation='elu'))\n",
    "model.add(Dropout(rate=0.5))\n",
    "\n",
    "#stage4\n",
    "model.add(Conv2D(filters=500, kernel_size=1, activation='elu', padding=\"same\"))\n",
    "model.add(Dropout(rate=0.5))\n",
    "\n",
    "#stage5\n",
    "model.add(Conv2D(filters=88, kernel_size=1, activation='sigmoid'))"
   ]
  },
  {
   "cell_type": "code",
   "execution_count": 60,
   "id": "dbae1517-c885-4d22-8608-3c699ad102c3",
   "metadata": {},
   "outputs": [],
   "source": [
    "# Code for the Accuracy of the Model \n",
    "\n",
    "class AccuracyHistory(tf.keras.callbacks.Callback):\n",
    "    def on_train_begin(self, logs={}):\n",
    "        self.acc = []\n",
    "\n",
    "    def on_epoch_end(self, batch, logs={}):\n",
    "        self.acc.append(logs.get('acc'))"
   ]
  },
  {
   "cell_type": "code",
   "execution_count": 61,
   "id": "a22e5251-c217-4be4-8830-4a69324363d1",
   "metadata": {},
   "outputs": [],
   "source": [
    "# Calculating the accuracy of the model using adam as optimizer and the learning rate is 0.001\n",
    "\n",
    "optimizer1 = Adam(learning_rate=0.001)\n",
    "model.compile(loss='binary_crossentropy', optimizer= optimizer1, metrics=['accuracy'])\n",
    "history = AccuracyHistory()\n",
    "\n",
    "# checkpoint = ModelCheckpoint(model_ckpt,monitor='val_loss',verbose=1,save_best_only=True,mode='min')\n",
    "early_stop = EarlyStopping(patience=5, monitor='val_loss',verbose=1, mode='min')\n",
    "callbacks = [history,early_stop]"
   ]
  },
  {
   "cell_type": "code",
   "execution_count": 62,
   "id": "15bf0067-69f6-4af7-89a8-1f4372a2ae68",
   "metadata": {},
   "outputs": [
    {
     "name": "stdout",
     "output_type": "stream",
     "text": [
      "Epoch 1/12\n",
      "112/112 [==============================] - 655s 6s/step - loss: 0.2144 - accuracy: 0.0576 - val_loss: 0.1609 - val_accuracy: 0.0860\n",
      "Epoch 2/12\n",
      "112/112 [==============================] - 685s 6s/step - loss: 0.1454 - accuracy: 0.1978 - val_loss: 0.1203 - val_accuracy: 0.2365\n",
      "Epoch 3/12\n",
      "112/112 [==============================] - 709s 6s/step - loss: 0.1148 - accuracy: 0.2852 - val_loss: 0.1111 - val_accuracy: 0.2993\n",
      "Epoch 4/12\n",
      "112/112 [==============================] - 733s 7s/step - loss: 0.1031 - accuracy: 0.3099 - val_loss: 0.1165 - val_accuracy: 0.3328\n",
      "Epoch 5/12\n",
      "112/112 [==============================] - 765s 7s/step - loss: 0.0952 - accuracy: 0.3250 - val_loss: 0.0968 - val_accuracy: 0.3083\n",
      "Epoch 6/12\n",
      "112/112 [==============================] - 735s 7s/step - loss: 0.0885 - accuracy: 0.3412 - val_loss: 0.0970 - val_accuracy: 0.3060\n",
      "Epoch 7/12\n",
      "112/112 [==============================] - 691s 6s/step - loss: 0.0838 - accuracy: 0.3486 - val_loss: 0.0964 - val_accuracy: 0.3270\n",
      "Epoch 8/12\n",
      "112/112 [==============================] - 657s 6s/step - loss: 0.0802 - accuracy: 0.3552 - val_loss: 0.0977 - val_accuracy: 0.3124\n",
      "Epoch 9/12\n",
      "112/112 [==============================] - 671s 6s/step - loss: 0.0775 - accuracy: 0.3602 - val_loss: 0.0962 - val_accuracy: 0.3145\n",
      "Epoch 10/12\n",
      "112/112 [==============================] - 648s 6s/step - loss: 0.0748 - accuracy: 0.3636 - val_loss: 0.0912 - val_accuracy: 0.3241\n",
      "Epoch 11/12\n",
      "112/112 [==============================] - 669s 6s/step - loss: 0.0725 - accuracy: 0.3671 - val_loss: 0.0892 - val_accuracy: 0.3407\n",
      "Epoch 12/12\n",
      "112/112 [==============================] - 658s 6s/step - loss: 0.0692 - accuracy: 0.3668 - val_loss: 0.0935 - val_accuracy: 0.3214\n"
     ]
    }
   ],
   "source": [
    "history = model.fit(Train_data, epochs=12, batch_size=mini_batch_size, validation_data=Test_data, verbose = 1, callbacks=callbacks)"
   ]
  },
  {
   "cell_type": "code",
   "execution_count": 63,
   "id": "4a20c33d-dcb6-4f17-906e-11a655af60f2",
   "metadata": {},
   "outputs": [
    {
     "data": {
      "image/png": "[encoded data removed]",
      "text/plain": [
       "<Figure size 432x288 with 1 Axes>"
      ]
     },
     "metadata": {},
     "output_type": "display_data"
    }
   ],
   "source": [
    "plt.plot(history.history['accuracy'])\n",
    "plt.plot(history.history['val_accuracy'])\n",
    "plt.title('model accuracy')\n",
    "plt.ylabel('accuracy')\n",
    "plt.xlabel('epoch')\n",
    "plt.legend(['train', 'val'], loc='upper left')\n",
    "plt.show()"
   ]
  },
  {
   "cell_type": "code",
   "execution_count": 64,
   "id": "499bb6c0-46f5-452e-9b69-a4fe6387c860",
   "metadata": {},
   "outputs": [
    {
     "data": {
      "image/png": "[encoded data removed]",
      "text/plain": [
       "<Figure size 432x288 with 1 Axes>"
      ]
     },
     "metadata": {},
     "output_type": "display_data"
    }
   ],
   "source": [
    "plt.plot(history.history['loss'])\n",
    "plt.plot(history.history['val_loss'])\n",
    "plt.title('model loss')\n",
    "plt.ylabel('loss')\n",
    "plt.xlabel('epoch')\n",
    "plt.legend(['train', 'val'], loc='upper left')\n",
    "plt.show()"
   ]
  },
  {
   "cell_type": "code",
   "execution_count": 65,
   "id": "e5335995-b4ef-4f21-ab5f-ad5dde628678",
   "metadata": {},
   "outputs": [
    {
     "name": "stdout",
     "output_type": "stream",
     "text": [
      "Model: \"sequential_13\"\n",
      "_________________________________________________________________\n",
      " Layer (type)                Output Shape              Param #   \n",
      "=================================================================\n",
      " conv2d_18 (Conv2D)          (None, 38, 252, 50)       6300      \n",
      "                                                                 \n",
      " batch_normalization_15 (Bat  (None, 38, 252, 50)      200       \n",
      " chNormalization)                                                \n",
      "                                                                 \n",
      " max_pooling2d_14 (MaxPoolin  (None, 38, 84, 50)       0         \n",
      " g2D)                                                            \n",
      "                                                                 \n",
      " conv2d_19 (Conv2D)          (None, 38, 84, 50)        37550     \n",
      "                                                                 \n",
      " batch_normalization_16 (Bat  (None, 38, 84, 50)       200       \n",
      " chNormalization)                                                \n",
      "                                                                 \n",
      " max_pooling2d_15 (MaxPoolin  (None, 38, 28, 50)       0         \n",
      " g2D)                                                            \n",
      "                                                                 \n",
      " conv2d_20 (Conv2D)          (None, 38, 1, 1000)       1401000   \n",
      "                                                                 \n",
      " dropout_2 (Dropout)         (None, 38, 1, 1000)       0         \n",
      "                                                                 \n",
      " conv2d_21 (Conv2D)          (None, 38, 1, 500)        500500    \n",
      "                                                                 \n",
      " dropout_3 (Dropout)         (None, 38, 1, 500)        0         \n",
      "                                                                 \n",
      " conv2d_22 (Conv2D)          (None, 38, 1, 88)         44088     \n",
      "                                                                 \n",
      "=================================================================\n",
      "Total params: 1,989,838\n",
      "Trainable params: 1,989,638\n",
      "Non-trainable params: 200\n",
      "_________________________________________________________________\n"
     ]
    }
   ],
   "source": [
    "model.summary()"
   ]
  },
  {
   "cell_type": "code",
   "execution_count": 66,
   "id": "4e049f24-b399-4692-a999-57e4cf3cbc9c",
   "metadata": {},
   "outputs": [],
   "source": [
    "from sklearn.metrics import precision_recall_fscore_support"
   ]
  },
  {
   "cell_type": "code",
   "execution_count": 67,
   "id": "59a23d21-6676-4117-aca1-264e625678af",
   "metadata": {},
   "outputs": [],
   "source": [
    "def opt_thresholds(y_true,y_scores):\n",
    "    othresholds = np.zeros(y_scores.shape[1])\n",
    "    print(othresholds.shape)\n",
    "    for label, (label_scores, true_bin) in enumerate(zip(y_scores.T,y_true.T)):\n",
    "        precision, recall, thresholds = sklearn.metrics.precision_recall_curve(true_bin, label_scores)\n",
    "        max_f1 = 0\n",
    "        max_f1_threshold = .5\n",
    "        for r, p, t in zip(recall, precision, thresholds):\n",
    "            if p + r == 0: continue\n",
    "            if (2*p*r)/(p + r) > max_f1:\n",
    "                max_f1 = (2*p*r)/(p + r)\n",
    "                max_f1_threshold = t\n",
    "        # print(\"label %f: max_f1_threshold %f => max_f1 %f\" %(label, max_f1_threshold, max_f1))\n",
    "        othresholds[label] = max_f1_threshold\n",
    "    return othresholds"
   ]
  },
  {
   "cell_type": "code",
   "execution_count": 68,
   "id": "5522bdb1-4e12-4e61-9b38-91f4a862251c",
   "metadata": {},
   "outputs": [],
   "source": [
    "tf.config.run_functions_eagerly(True)"
   ]
  },
  {
   "cell_type": "code",
   "execution_count": 106,
   "id": "3b6da1ab-2bc0-4597-ad79-9372ebcd0ce9",
   "metadata": {},
   "outputs": [],
   "source": [
    "#calculating threshold on validation data\n",
    "x = X_Test\n",
    "y_true = Y_Test\n",
    "y_scores = model.predict(x)"
   ]
  },
  {
   "cell_type": "code",
   "execution_count": 108,
   "id": "922b8e7a-a6ac-40c7-a9a0-80d92128d38e",
   "metadata": {},
   "outputs": [],
   "source": [
    "y_scores = np.reshape(y_scores, (578322, 88))\n",
    "Y_Test = np.reshape(Y_Test, (578322, 88))"
   ]
  },
  {
   "cell_type": "code",
   "execution_count": 109,
   "id": "5bf885b5-cd3b-4140-b697-ed15cf8173d9",
   "metadata": {},
   "outputs": [
    {
     "name": "stdout",
     "output_type": "stream",
     "text": [
      "(88,)\n"
     ]
    }
   ],
   "source": [
    "othresholds = opt_thresholds(y_true, y_scores)"
   ]
  },
  {
   "cell_type": "code",
   "execution_count": 110,
   "id": "8eacf120-66a1-4505-b470-38b5b924ca52",
   "metadata": {},
   "outputs": [],
   "source": [
    "#evaludate this over validation data\n",
    "y_pred = y_scores > othresholds"
   ]
  },
  {
   "cell_type": "code",
   "execution_count": 111,
   "id": "197b21fa-bcb9-4925-9875-af574e1026e1",
   "metadata": {},
   "outputs": [
    {
     "name": "stdout",
     "output_type": "stream",
     "text": [
      "0.597665 0.681797 0.636965\n"
     ]
    }
   ],
   "source": [
    "#precision, recall, fbetascore, support =>p, r, f, s\n",
    "p,r,f,s = sklearn.metrics.precision_recall_fscore_support(y_true,y_pred,average='micro')\n",
    "print(\"%f %f %f\" %(p, r, f))"
   ]
  },
  {
   "cell_type": "code",
   "execution_count": 112,
   "id": "20fede5a-1712-481d-81f6-fec459ac8209",
   "metadata": {},
   "outputs": [],
   "source": [
    "np.save('y_pred.npy', y_pred)"
   ]
  }
 ],
 "metadata": {
  "kernelspec": {
   "display_name": "LAB",
   "language": "python",
   "name": "lab"
  },
  "language_info": {
   "codemirror_mode": {
    "name": "ipython",
    "version": 3
   },
   "file_extension": ".py",
   "mimetype": "text/x-python",
   "name": "python",
   "nbconvert_exporter": "python",
   "pygments_lexer": "ipython3",
   "version": "3.9.6"
  }
 },
 "nbformat": 4,
 "nbformat_minor": 5
}
